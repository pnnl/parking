{
 "cells": [
  {
   "cell_type": "code",
   "execution_count": null,
   "id": "34c64fc4",
   "metadata": {},
   "outputs": [],
   "source": [
    "# Julia code for dynamic curb allocation comparing MIP and DW method (QCP constraint included)\n",
    "# written by Nawaf\n",
    "# curb allocation for Seattle (Insignia) without bus stop consideration\n",
    "using Dates\n",
    "now_time=now() - Dates.Hour(7)\n",
    "println(\"now_time: \", now_time)\n",
    "start_time=Int(floor((Dates.hour(now_time) * 60 + Dates.minute(now_time)) / 15))\n",
    "println(\"start_time: \", start_time) # the start index for a 15 minute block based on the current seattle local time\n",
    "nb=26; # no of blocks\n",
    "T=10; # no of timesteps\n",
    "E=3; # no of curb types (1=paid parking, 2=commercial vehicles, 3=busus/public)"
   ]
  },
  {
   "cell_type": "code",
   "execution_count": null,
   "id": "a67be8a2",
   "metadata": {},
   "outputs": [],
   "source": [
    "using CSV\n",
    "using DataFrames"
   ]
  },
  {
   "cell_type": "code",
   "execution_count": null,
   "id": "7dc97fea",
   "metadata": {},
   "outputs": [],
   "source": [
    "# read the curb length data\n",
    "curb_data=CSV.read(\"./space_val_data/Iter2/ekey_length.csv\", DataFrame)  # reading node data\n",
    "tot_curbs=sum(curb_data[1:nb,3]);\n",
    "loc=3; # no of demand locations\n",
    "tot_T=96; # total time of data available"
   ]
  },
  {
   "cell_type": "code",
   "execution_count": null,
   "id": "ccb452d9",
   "metadata": {},
   "outputs": [],
   "source": [
    "# read the space valuation of curbs for buses\n",
    "curb_value_bus=zeros(Float64,tot_curbs,loc,tot_T);\n",
    "curb_value_bus_tot=zeros(Float64,tot_curbs,tot_T);\n",
    "global mp=0;\n",
    "for i=1:nb\n",
    "    curb_name=string(curb_data[i,2]);\n",
    "    for k=1:loc\n",
    "        loc_name=string(k);\n",
    "        value_data=CSV.read(string(\"./space_val_data/Iter2/bus/\",curb_name,\"_loc_\",loc_name,\"_bus.csv\"), DataFrame; header=false)\n",
    "        for j=1:curb_data[i,3]\n",
    "            for p=1:tot_T\n",
    "                curb_value_bus[mp+j,k,p]=value_data[j,p];\n",
    "            end\n",
    "        end\n",
    "    end\n",
    "    global mp=mp+curb_data[i,3];\n",
    "end\n",
    "curb_value_bus_tot=reshape(sum(curb_value_bus,dims=2),tot_curbs,tot_T);"
   ]
  },
  {
   "cell_type": "code",
   "execution_count": null,
   "id": "c813bb27",
   "metadata": {},
   "outputs": [],
   "source": [
    "# read the space valuation of curbs for paid parking\n",
    "curb_value_paid=zeros(Float64,tot_curbs,loc,tot_T);\n",
    "curb_value_paid_tot=zeros(Float64,tot_curbs,tot_T);\n",
    "global mp=0;\n",
    "for i=1:nb\n",
    "    curb_name=string(curb_data[i,2]);\n",
    "    for k=1:loc\n",
    "        loc_name=string(k);\n",
    "        value_data=CSV.read(string(\"./space_val_data/Iter2/paid/\",curb_name,\"_loc_\",loc_name,\"_paid.csv\"), DataFrame; header=false)\n",
    "        for j=1:curb_data[i,3]\n",
    "            for p=1:tot_T\n",
    "                curb_value_paid[mp+j,k,p]=value_data[j,p];\n",
    "            end\n",
    "        end\n",
    "    end\n",
    "    global mp=mp+curb_data[i,3];\n",
    "end\n",
    "curb_value_paid_tot=reshape(sum(curb_value_paid,dims=2),tot_curbs,tot_T);"
   ]
  },
  {
   "cell_type": "code",
   "execution_count": null,
   "id": "04a347f7",
   "metadata": {},
   "outputs": [],
   "source": [
    "# read the space valuation of curbs for cv\n",
    "curb_value_cv=zeros(Float64,tot_curbs,loc,tot_T);\n",
    "curb_value_cv_tot=zeros(Float64,tot_curbs,tot_T);\n",
    "global mp=0;\n",
    "for i=1:nb\n",
    "    curb_name=string(curb_data[i,2]);\n",
    "    for k=1:loc\n",
    "        loc_name=string(k);\n",
    "        value_data=CSV.read(string(\"./space_val_data/Iter2/cv/\",curb_name,\"_loc_\",loc_name,\"_cv.csv\"), DataFrame; header=false)\n",
    "        for j=1:curb_data[i,3]\n",
    "            for p=1:tot_T\n",
    "                curb_value_cv[mp+j,k,p]=value_data[j,p];\n",
    "            end\n",
    "        end\n",
    "    end\n",
    "    global mp=mp+curb_data[i,3];\n",
    "end\n",
    "curb_value_cv_tot=reshape(sum(curb_value_cv,dims=2),tot_curbs,tot_T);"
   ]
  },
  {
   "cell_type": "code",
   "execution_count": null,
   "id": "9ca2b495",
   "metadata": {},
   "outputs": [],
   "source": [
    "# read the distance (latitude and longitude) of curbs\n",
    "\n",
    "dist_curb=zeros(Float64,tot_curbs,2);\n",
    "global mp=0;\n",
    "for i=1:nb\n",
    "    curb_name=string(curb_data[i,2]);\n",
    "    dist_data=CSV.read(string(\"./space_val_data/Iter2/distance/\",curb_name,\"_dist.csv\"), DataFrame; header=false)\n",
    "    for j=1:curb_data[i,3]\n",
    "        for k=1:2\n",
    "            dist_curb[mp+j,k]=dist_data[j,k];\n",
    "        end\n",
    "    end\n",
    "    global mp=mp+curb_data[i,3];\n",
    "end"
   ]
  },
  {
   "cell_type": "code",
   "execution_count": null,
   "id": "670b304e",
   "metadata": {},
   "outputs": [],
   "source": [
    "# form the distance matrix\n",
    "dist_matrix=zeros(Float64,tot_curbs,tot_curbs);\n",
    "for i=1:tot_curbs\n",
    "    for j=i+1:tot_curbs\n",
    "        #if i!=j\n",
    "            dist_matrix[i,j]=(1e-5)/((dist_curb[i,1]-dist_curb[j,1])^2+(dist_curb[i,2]-dist_curb[j,2])^2);\n",
    "            #dist_matrix[j,i]=(1e-5)/((dist_curb[i,1]-dist_curb[j,1])^2+(dist_curb[i,2]-dist_curb[j,2])^2);\n",
    "        #else\n",
    "            #dist_matrix[i,j]=1;\n",
    "        #end\n",
    "    end\n",
    "end"
   ]
  },
  {
   "cell_type": "code",
   "execution_count": null,
   "id": "3909bb71",
   "metadata": {},
   "outputs": [],
   "source": [
    " b=100; # no of changes in allocations between timesteps\n",
    " tmin=[120; 120; 120]; # minimum allocations over time\n",
    " tmax=[1500; 1500; 1500]; # maximum allocations over time\n",
    "t1min=[50; 50; 50]; # minimum allocations at one timestep (of a type of allocation)\n",
    "t1max=[125; 125; 125]; # maximum allocations at one timestep (of a type of allocation)"
   ]
  },
  {
   "cell_type": "code",
   "execution_count": null,
   "id": "5d4eefd0",
   "metadata": {},
   "outputs": [],
   "source": [
    "# optimization problem starts\n",
    "# this is being dynamically set in the first block\n",
    "#start_time=49;  # start the optimization horizon at this timestep (from tot_T=96)\n",
    "using JuMP\n",
    "using SCIP\n",
    "#using Gurobi\n",
    "#using Mosek\n",
    "#using MosekTools"
   ]
  },
  {
   "cell_type": "code",
   "execution_count": null,
   "id": "2ea28f7c",
   "metadata": {},
   "outputs": [],
   "source": [
    "#JM=Model(with_optimizer(Gurobi.Optimizer, MIPGap=.005, OutputFlag=0)) # silent run\n",
    "JM=Model(SCIP.Optimizer)#, MIPGap=.01)\n",
    "#set_optimizer_attribute(JM, \"MIPGap\", .01);"
   ]
  },
  {
   "cell_type": "code",
   "execution_count": null,
   "id": "5a897eab",
   "metadata": {},
   "outputs": [],
   "source": [
    "# defining variables\n",
    "@variable(JM,U[1:tot_curbs,1:T,1:E], Bin) # allocation variable\n",
    "#(1=paid parking, 2=commercial vehicles, 3=busus/public)\n",
    "@variable(JM,x[1:tot_curbs,1:T-1,1:E], Int) # change in allocation between timesteps\n",
    "@variable(JM,w[1:T,1:E]) # regularization term for spacing"
   ]
  },
  {
   "cell_type": "code",
   "execution_count": null,
   "id": "846b66f2",
   "metadata": {},
   "outputs": [],
   "source": [
    "# defining objective\n",
    "@objective(JM,Min,-sum(sum(curb_value_paid_tot[:,start_time+1:start_time+T].*U[:,:,1]))-sum(sum(curb_value_cv_tot[:,start_time+1:start_time+T].*U[:,:,2]))-sum(sum(curb_value_bus_tot[:,start_time+1:start_time+T].*U[:,:,3])));\n",
    " # maximize linear revenue+ regularization for spacing (neglect regularization for now)"
   ]
  },
  {
   "cell_type": "code",
   "execution_count": null,
   "id": "4691ece2",
   "metadata": {},
   "outputs": [],
   "source": [
    "# defining constraints\n",
    "for i=1:tot_curbs\n",
    "    for t=1:T\n",
    "        @constraint(JM,sum(U[i,t,:])==1) # at a time and location only one allocation allowed\n",
    "    end\n",
    "end\n",
    "for t=1:T-1\n",
    "    for i=1:tot_curbs\n",
    "        for e=1:E\n",
    "            @constraint(JM,x[i,t,e] .== U[i,t+1,e]-U[i,t,e])\n",
    "        end\n",
    "    end\n",
    "    @constraint(JM,sum(sum(x[:,t,:].^2))<=2*b) # limiting change in allocation between timesteps\n",
    "end"
   ]
  },
  {
   "cell_type": "code",
   "execution_count": null,
   "id": "f383c12b",
   "metadata": {},
   "outputs": [],
   "source": [
    "# maximum and minimum no of allocations over time for each type of allocation\n",
    "for e=1:E\n",
    "    #@constraint(JM,sum(sum(U[:,:,e]))<=tmax[e])\n",
    "    #@constraint(JM,sum(sum(U[:,:,e]))>=tmin[e])\n",
    "end\n",
    "# maximum and minimum no of allocations at each timestep for each allocation\n",
    "\n",
    "for e=1:E\n",
    "    for t=1:T\n",
    "        @constraint(JM,sum(U[:,t,e])<=t1max[e])\n",
    "        @constraint(JM,sum(U[:,t,e])>=t1min[e])\n",
    "    end\n",
    "end"
   ]
  },
  {
   "cell_type": "code",
   "execution_count": null,
   "id": "f55a9af2",
   "metadata": {},
   "outputs": [],
   "source": [
    "# regularization distance is positive\n",
    "#@constraint(JM,w .>= 0)\n",
    "#@constraint(JM,U .>= 0)\n",
    "# maximize distance between same type allocations\n",
    "for e=1:E\n",
    "    for t=1:T\n",
    "        #@constraint(JM,U[:,t,e]'*dist_matrix*U[:,t,e]<=w[t,e])  # calculate regularization term\n",
    "    end\n",
    "end"
   ]
  },
  {
   "cell_type": "code",
   "execution_count": null,
   "id": "d7a88f53",
   "metadata": {},
   "outputs": [],
   "source": [
    "status_1=optimize!(JM) # run the optimization"
   ]
  },
  {
   "cell_type": "code",
   "execution_count": null,
   "id": "693f2709",
   "metadata": {},
   "outputs": [],
   "source": [
    "# for i=1:289\n",
    "#     if value.(U[i,2,1]) ==1\n",
    "#         println(\"paid\")\n",
    "#     elseif value.(U[i,2,2]) ==1\n",
    "#         println(\"cv\")\n",
    "#     else\n",
    "#         println(\"bus\")\n",
    "#     end\n",
    "# end"
   ]
  },
  {
   "cell_type": "code",
   "execution_count": null,
   "id": "508d6e1f",
   "metadata": {},
   "outputs": [],
   "source": [
    "U_final=value.(U);  # MIP solution\n",
    "dfU = DataFrame(curbnum=Int[], curbname=String[], Time=Int[], Parkingtype=String[], loc_start=String[], loc_end=String[])\n",
    "for t=1:T\n",
    "    mp=0;\n",
    "    for i=1:nb\n",
    "        for j=1:curb_data[i,3]\n",
    "            mp=mp+1;\n",
    "            time = (start_time + t - 1) * 15\n",
    "            if U_final[mp,t,1]==1\n",
    "                push!(dfU,[mp, string(curb_data[i,2]), time, \"Paid\", string(curb_data[i,7]), string(curb_data[i,8])])\n",
    "            elseif U_final[mp,t,2]==1\n",
    "                push!(dfU,[mp, string(curb_data[i,2]), time, \"CV\", string(curb_data[i,7]), string(curb_data[i,8])])\n",
    "            elseif U_final[mp,t,3]==1\n",
    "                push!(dfU,[mp, string(curb_data[i,2]), time, \"Bus\", string(curb_data[i,7]), string(curb_data[i,8])])\n",
    "            end\n",
    "        end\n",
    "    end\n",
    "end"
   ]
  },
  {
   "cell_type": "code",
   "execution_count": null,
   "id": "a36c6951",
   "metadata": {},
   "outputs": [],
   "source": [
    "#dfU=DataFrame(Any[U_final[:,i,j] for j=1:E for i=1:T],:auto)\n",
    "CSV.write(\"U_final.csv\",dfU)\n",
    "# dfPaid=DataFrame(curb_value_paid_tot[:,50:59],:auto)\n",
    "# CSV.write(\"paid_objective.csv\",dfPaid)\n",
    "# dfCV=DataFrame(curb_value_cv_tot[:,50:59],:auto)\n",
    "# CSV.write(\"cv_objective.csv\",dfCV)\n",
    "# dfBus=DataFrame(curb_value_bus_tot[:,50:59],:auto)\n",
    "# CSV.write(\"bus_objective.csv\",dfBus)"
   ]
  },
  {
   "cell_type": "code",
   "execution_count": null,
   "id": "417c7411",
   "metadata": {},
   "outputs": [],
   "source": [
    "println(\"MIP optimal solution\")\n",
    "println(sum(sum(curb_value_paid_tot[:,start_time+1:start_time+T].*value.(U[:,:,1])))+sum(sum(curb_value_cv_tot[:,start_time+1:start_time+T].*value.(U[:,:,2])))+sum(sum(curb_value_bus_tot[:,start_time+1:start_time+T].*value.(U[:,:,3]))))\n",
    "MIP_sol_opt=sum(sum(curb_value_paid_tot[:,start_time+1:start_time+T].*value.(U[:,:,1])))+sum(sum(curb_value_cv_tot[:,start_time+1:start_time+T].*value.(U[:,:,2])))+sum(sum(curb_value_bus_tot[:,start_time+1:start_time+T].*value.(U[:,:,3])))"
   ]
  },
  {
   "cell_type": "code",
   "execution_count": null,
   "id": "a2c10f5a",
   "metadata": {},
   "outputs": [],
   "source": [
    "using JSON\n",
    "mutable struct JTT\n",
    "  curbnum::Int64\n",
    "  curbname::String\n",
    "  Time::Int64\n",
    "  Parkingtype::String\n",
    "  loc_start::String\n",
    "  loc_end::String\n",
    "end\n",
    "jt = []\n",
    "for r in eachrow(dfU)\n",
    "    push!(jt, JTT(r.curbnum, r.curbname, r.Time, r.Parkingtype, r.loc_start, r.loc_end))\n",
    "end\n",
    "open(\"U_final.json\", \"w\") do f\n",
    "    write(f, JSON.json(jt))\n",
    "end"
   ]
  }
 ],
 "metadata": {
  "kernelspec": {
   "display_name": "Julia 1.6.1",
   "language": "julia",
   "name": "julia-1.6"
  },
  "language_info": {
   "file_extension": ".jl",
   "mimetype": "application/julia",
   "name": "julia",
   "version": "1.6.1"
  }
 },
 "nbformat": 4,
 "nbformat_minor": 5
}
